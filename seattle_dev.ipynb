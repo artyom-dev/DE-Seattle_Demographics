{
 "cells": [
  {
   "cell_type": "code",
   "execution_count": 22,
   "id": "52e17d43",
   "metadata": {},
   "outputs": [],
   "source": [
    "import pandas as pd \n",
    "import numpy as np \n",
    "from pyspark.sql import SparkSession \n",
    "from pyspark.sql.types import StructType, StructField, StringType\n",
    "from pyspark.sql import Row \n",
    "from pyspark.sql.functions import avg \n",
    "import os \n",
    "from pyspark.ml.feature import Imputer\n",
    "from pyspark.sql.functions import col \n",
    "#from pyspark.sql.functions import round"
   ]
  },
  {
   "cell_type": "code",
   "execution_count": 2,
   "id": "a8106117",
   "metadata": {},
   "outputs": [],
   "source": [
    "os.environ[\"PYSPARK_PYTHON\"] = \"python\""
   ]
  },
  {
   "cell_type": "code",
   "execution_count": 3,
   "id": "e6228c6e",
   "metadata": {},
   "outputs": [],
   "source": [
    "df_pandas = pd.read_csv('seattle.csv')"
   ]
  },
  {
   "cell_type": "markdown",
   "id": "4ed70029",
   "metadata": {},
   "source": [
    "# Some initial statisctics about dataset"
   ]
  },
  {
   "cell_type": "code",
   "execution_count": 4,
   "id": "475193ab",
   "metadata": {},
   "outputs": [
    {
     "data": {
      "text/html": [
       "<div>\n",
       "<style scoped>\n",
       "    .dataframe tbody tr th:only-of-type {\n",
       "        vertical-align: middle;\n",
       "    }\n",
       "\n",
       "    .dataframe tbody tr th {\n",
       "        vertical-align: top;\n",
       "    }\n",
       "\n",
       "    .dataframe thead th {\n",
       "        text-align: right;\n",
       "    }\n",
       "</style>\n",
       "<table border=\"1\" class=\"dataframe\">\n",
       "  <thead>\n",
       "    <tr style=\"text-align: right;\">\n",
       "      <th></th>\n",
       "      <th>Race/Ethnicity</th>\n",
       "      <th>Sex</th>\n",
       "      <th>Department</th>\n",
       "      <th>Age</th>\n",
       "      <th>Hourly Rate</th>\n",
       "      <th>Regular/Temporary</th>\n",
       "      <th>Employee Status</th>\n",
       "    </tr>\n",
       "  </thead>\n",
       "  <tbody>\n",
       "    <tr>\n",
       "      <th>0</th>\n",
       "      <td>Hispanic or Latino</td>\n",
       "      <td>M</td>\n",
       "      <td>Parks &amp; Recreation</td>\n",
       "      <td>42.0</td>\n",
       "      <td>36.57</td>\n",
       "      <td>R</td>\n",
       "      <td>A</td>\n",
       "    </tr>\n",
       "    <tr>\n",
       "      <th>1</th>\n",
       "      <td>Hispanic or Latino</td>\n",
       "      <td>F</td>\n",
       "      <td>Municipal Court</td>\n",
       "      <td>37.0</td>\n",
       "      <td>30.48</td>\n",
       "      <td>R</td>\n",
       "      <td>A</td>\n",
       "    </tr>\n",
       "    <tr>\n",
       "      <th>2</th>\n",
       "      <td>Hispanic or Latino</td>\n",
       "      <td>M</td>\n",
       "      <td>Police Department</td>\n",
       "      <td>46.0</td>\n",
       "      <td>57.70</td>\n",
       "      <td>R</td>\n",
       "      <td>A</td>\n",
       "    </tr>\n",
       "    <tr>\n",
       "      <th>3</th>\n",
       "      <td>Hispanic or Latino</td>\n",
       "      <td>F</td>\n",
       "      <td>Office of Labor Standards</td>\n",
       "      <td>NaN</td>\n",
       "      <td>46.68</td>\n",
       "      <td>R</td>\n",
       "      <td>A</td>\n",
       "    </tr>\n",
       "    <tr>\n",
       "      <th>4</th>\n",
       "      <td>Hispanic or Latino</td>\n",
       "      <td>M</td>\n",
       "      <td>Seattle Dept of Transportation</td>\n",
       "      <td>26.0</td>\n",
       "      <td>45.81</td>\n",
       "      <td>R</td>\n",
       "      <td>A</td>\n",
       "    </tr>\n",
       "  </tbody>\n",
       "</table>\n",
       "</div>"
      ],
      "text/plain": [
       "       Race/Ethnicity Sex                      Department   Age  Hourly Rate  \\\n",
       "0  Hispanic or Latino   M              Parks & Recreation  42.0        36.57   \n",
       "1  Hispanic or Latino   F                 Municipal Court  37.0        30.48   \n",
       "2  Hispanic or Latino   M               Police Department  46.0        57.70   \n",
       "3  Hispanic or Latino   F       Office of Labor Standards   NaN        46.68   \n",
       "4  Hispanic or Latino   M  Seattle Dept of Transportation  26.0        45.81   \n",
       "\n",
       "  Regular/Temporary Employee Status  \n",
       "0                 R               A  \n",
       "1                 R               A  \n",
       "2                 R               A  \n",
       "3                 R               A  \n",
       "4                 R               A  "
      ]
     },
     "execution_count": 4,
     "metadata": {},
     "output_type": "execute_result"
    }
   ],
   "source": [
    "df_pandas.head()"
   ]
  },
  {
   "cell_type": "code",
   "execution_count": 5,
   "id": "5e5ff75f",
   "metadata": {},
   "outputs": [
    {
     "data": {
      "text/html": [
       "<div>\n",
       "<style scoped>\n",
       "    .dataframe tbody tr th:only-of-type {\n",
       "        vertical-align: middle;\n",
       "    }\n",
       "\n",
       "    .dataframe tbody tr th {\n",
       "        vertical-align: top;\n",
       "    }\n",
       "\n",
       "    .dataframe thead th {\n",
       "        text-align: right;\n",
       "    }\n",
       "</style>\n",
       "<table border=\"1\" class=\"dataframe\">\n",
       "  <thead>\n",
       "    <tr style=\"text-align: right;\">\n",
       "      <th></th>\n",
       "      <th>Age</th>\n",
       "      <th>Hourly Rate</th>\n",
       "    </tr>\n",
       "  </thead>\n",
       "  <tbody>\n",
       "    <tr>\n",
       "      <th>count</th>\n",
       "      <td>13652.000000</td>\n",
       "      <td>13659.000000</td>\n",
       "    </tr>\n",
       "    <tr>\n",
       "      <th>mean</th>\n",
       "      <td>44.665470</td>\n",
       "      <td>45.864420</td>\n",
       "    </tr>\n",
       "    <tr>\n",
       "      <th>std</th>\n",
       "      <td>13.400901</td>\n",
       "      <td>17.627389</td>\n",
       "    </tr>\n",
       "    <tr>\n",
       "      <th>min</th>\n",
       "      <td>15.000000</td>\n",
       "      <td>5.530000</td>\n",
       "    </tr>\n",
       "    <tr>\n",
       "      <th>25%</th>\n",
       "      <td>35.000000</td>\n",
       "      <td>32.850000</td>\n",
       "    </tr>\n",
       "    <tr>\n",
       "      <th>50%</th>\n",
       "      <td>45.000000</td>\n",
       "      <td>45.000000</td>\n",
       "    </tr>\n",
       "    <tr>\n",
       "      <th>75%</th>\n",
       "      <td>55.000000</td>\n",
       "      <td>57.870000</td>\n",
       "    </tr>\n",
       "    <tr>\n",
       "      <th>max</th>\n",
       "      <td>91.000000</td>\n",
       "      <td>187.767000</td>\n",
       "    </tr>\n",
       "  </tbody>\n",
       "</table>\n",
       "</div>"
      ],
      "text/plain": [
       "                Age   Hourly Rate\n",
       "count  13652.000000  13659.000000\n",
       "mean      44.665470     45.864420\n",
       "std       13.400901     17.627389\n",
       "min       15.000000      5.530000\n",
       "25%       35.000000     32.850000\n",
       "50%       45.000000     45.000000\n",
       "75%       55.000000     57.870000\n",
       "max       91.000000    187.767000"
      ]
     },
     "execution_count": 5,
     "metadata": {},
     "output_type": "execute_result"
    }
   ],
   "source": [
    "df_pandas.describe()"
   ]
  },
  {
   "cell_type": "code",
   "execution_count": 6,
   "id": "cfd27cdf",
   "metadata": {},
   "outputs": [
    {
     "name": "stdout",
     "output_type": "stream",
     "text": [
      "<class 'pandas.core.frame.DataFrame'>\n",
      "RangeIndex: 13659 entries, 0 to 13658\n",
      "Data columns (total 7 columns):\n",
      " #   Column             Non-Null Count  Dtype  \n",
      "---  ------             --------------  -----  \n",
      " 0   Race/Ethnicity     13659 non-null  object \n",
      " 1   Sex                13659 non-null  object \n",
      " 2   Department         13659 non-null  object \n",
      " 3   Age                13652 non-null  float64\n",
      " 4   Hourly Rate        13659 non-null  float64\n",
      " 5   Regular/Temporary  13659 non-null  object \n",
      " 6   Employee Status    13659 non-null  object \n",
      "dtypes: float64(2), object(5)\n",
      "memory usage: 747.1+ KB\n"
     ]
    }
   ],
   "source": [
    "df_pandas.info()"
   ]
  },
  {
   "cell_type": "code",
   "execution_count": 7,
   "id": "3d3784c2",
   "metadata": {},
   "outputs": [
    {
     "data": {
      "text/plain": [
       "Race/Ethnicity       0\n",
       "Sex                  0\n",
       "Department           0\n",
       "Age                  7\n",
       "Hourly Rate          0\n",
       "Regular/Temporary    0\n",
       "Employee Status      0\n",
       "dtype: int64"
      ]
     },
     "execution_count": 7,
     "metadata": {},
     "output_type": "execute_result"
    }
   ],
   "source": [
    "df_pandas.isna().sum()"
   ]
  },
  {
   "cell_type": "code",
   "execution_count": 45,
   "id": "087d3066",
   "metadata": {},
   "outputs": [
    {
     "data": {
      "text/plain": [
       "count    13659.000000\n",
       "mean        45.864420\n",
       "std         17.627389\n",
       "min          5.530000\n",
       "25%         32.850000\n",
       "50%         45.000000\n",
       "75%         57.870000\n",
       "max        187.767000\n",
       "Name: Hourly Rate, dtype: float64"
      ]
     },
     "execution_count": 45,
     "metadata": {},
     "output_type": "execute_result"
    }
   ],
   "source": [
    "df_pandas['Hourly Rate'].describe()"
   ]
  },
  {
   "cell_type": "code",
   "execution_count": 46,
   "id": "f5f0e93c",
   "metadata": {},
   "outputs": [
    {
     "data": {
      "text/plain": [
       "count    13652.000000\n",
       "mean        44.665470\n",
       "std         13.400901\n",
       "min         15.000000\n",
       "25%         35.000000\n",
       "50%         45.000000\n",
       "75%         55.000000\n",
       "max         91.000000\n",
       "Name: Age, dtype: float64"
      ]
     },
     "execution_count": 46,
     "metadata": {},
     "output_type": "execute_result"
    }
   ],
   "source": [
    "df_pandas['Age'].describe()"
   ]
  },
  {
   "cell_type": "code",
   "execution_count": 52,
   "id": "9e4d74a6",
   "metadata": {},
   "outputs": [
    {
     "data": {
      "text/plain": [
       "51.0    393\n",
       "52.0    386\n",
       "41.0    354\n",
       "38.0    353\n",
       "53.0    351\n",
       "37.0    348\n",
       "34.0    341\n",
       "50.0    339\n",
       "55.0    338\n",
       "40.0    336\n",
       "Name: Age, dtype: int64"
      ]
     },
     "execution_count": 52,
     "metadata": {},
     "output_type": "execute_result"
    }
   ],
   "source": [
    "df_pandas['Age'].value_counts().head(10)"
   ]
  },
  {
   "cell_type": "code",
   "execution_count": 53,
   "id": "2e2481f1",
   "metadata": {},
   "outputs": [
    {
     "data": {
      "text/plain": [
       "78.0    9\n",
       "79.0    6\n",
       "86.0    4\n",
       "85.0    2\n",
       "82.0    2\n",
       "83.0    1\n",
       "81.0    1\n",
       "84.0    1\n",
       "91.0    1\n",
       "15.0    1\n",
       "Name: Age, dtype: int64"
      ]
     },
     "execution_count": 53,
     "metadata": {},
     "output_type": "execute_result"
    }
   ],
   "source": [
    "df_pandas['Age'].value_counts().tail(10)"
   ]
  },
  {
   "cell_type": "code",
   "execution_count": 8,
   "id": "4f04d103",
   "metadata": {},
   "outputs": [],
   "source": [
    "spark = SparkSession.builder.appName('Seattle_csv_spark').getOrCreate()"
   ]
  },
  {
   "cell_type": "code",
   "execution_count": null,
   "id": "221aab00",
   "metadata": {},
   "outputs": [],
   "source": []
  },
  {
   "cell_type": "code",
   "execution_count": 9,
   "id": "d4b0dea9",
   "metadata": {},
   "outputs": [
    {
     "name": "stdout",
     "output_type": "stream",
     "text": [
      "root\n",
      " |-- Race/Ethnicity: string (nullable = true)\n",
      " |-- Sex: string (nullable = true)\n",
      " |-- Department: string (nullable = true)\n",
      " |-- Age: double (nullable = true)\n",
      " |-- Hourly Rate: double (nullable = true)\n",
      " |-- Regular/Temporary: string (nullable = true)\n",
      " |-- Employee Status: string (nullable = true)\n",
      "\n",
      "+------------------+---+--------------------+----+-----------+-----------------+---------------+\n",
      "|    Race/Ethnicity|Sex|          Department| Age|Hourly Rate|Regular/Temporary|Employee Status|\n",
      "+------------------+---+--------------------+----+-----------+-----------------+---------------+\n",
      "|Hispanic or Latino|  M|  Parks & Recreation|42.0|      36.57|                R|              A|\n",
      "|Hispanic or Latino|  F|     Municipal Court|37.0|      30.48|                R|              A|\n",
      "|Hispanic or Latino|  M|   Police Department|46.0|       57.7|                R|              A|\n",
      "|Hispanic or Latino|  F|Office of Labor S...| NaN|      46.68|                R|              A|\n",
      "|Hispanic or Latino|  M|Seattle Dept of T...|26.0|      45.81|                R|              A|\n",
      "|Hispanic or Latino|  F|Seattle Public Ut...|34.0|      32.48|                R|              A|\n",
      "|Hispanic or Latino|  M|     Fire Department|47.0|      56.28|                R|              A|\n",
      "|Hispanic or Latino|  F|     Municipal Court| NaN|      31.35|                R|              A|\n",
      "|Hispanic or Latino|  F|Immigrant & Refug...|40.0|     46.408|                R|              A|\n",
      "|Hispanic or Latino|  F|  Parks & Recreation|67.0|      18.56|                T|              A|\n",
      "|Hispanic or Latino|  F|  Parks & Recreation|20.0|      18.56|                T|              A|\n",
      "|Hispanic or Latino|  F|Human Services De...|31.0|      33.78|                T|              A|\n",
      "|Hispanic or Latino|  M|   Police Department|61.0|      59.53|                R|              A|\n",
      "|Hispanic or Latino|  F|Seattle Public Ut...|31.0|      29.03|                R|              A|\n",
      "|Hispanic or Latino|  M|  Parks & Recreation|64.0|      42.92|                R|              A|\n",
      "|Hispanic or Latino|  M|  Seattle City Light|23.0|      19.09|                T|              A|\n",
      "|Hispanic or Latino|  M|  Seattle City Light|51.0|      61.86|                R|              A|\n",
      "|Hispanic or Latino|  F|Seattle Public Ut...|41.0|       53.2|                R|              A|\n",
      "|Hispanic or Latino|  M|Finance & Admin S...|53.0|      29.28|                R|              A|\n",
      "|Hispanic or Latino|  M|  Parks & Recreation|22.0|      18.56|                T|              A|\n",
      "+------------------+---+--------------------+----+-----------+-----------------+---------------+\n",
      "only showing top 20 rows\n",
      "\n"
     ]
    }
   ],
   "source": [
    "sparkDF=spark.createDataFrame(df_pandas) \n",
    "sparkDF.printSchema()\n",
    "sparkDF.show()\n"
   ]
  },
  {
   "cell_type": "code",
   "execution_count": 10,
   "id": "912369fc",
   "metadata": {},
   "outputs": [],
   "source": [
    "sparkDF = sparkDF.replace(float('NaN'), None)"
   ]
  },
  {
   "cell_type": "code",
   "execution_count": 11,
   "id": "dbb41dc1",
   "metadata": {},
   "outputs": [
    {
     "name": "stdout",
     "output_type": "stream",
     "text": [
      "+------------------+---+--------------------+----+-----------+-----------------+---------------+\n",
      "|    Race/Ethnicity|Sex|          Department| Age|Hourly Rate|Regular/Temporary|Employee Status|\n",
      "+------------------+---+--------------------+----+-----------+-----------------+---------------+\n",
      "|Hispanic or Latino|  M|  Parks & Recreation|42.0|      36.57|                R|              A|\n",
      "|Hispanic or Latino|  F|     Municipal Court|37.0|      30.48|                R|              A|\n",
      "|Hispanic or Latino|  M|   Police Department|46.0|       57.7|                R|              A|\n",
      "|Hispanic or Latino|  F|Office of Labor S...|null|      46.68|                R|              A|\n",
      "|Hispanic or Latino|  M|Seattle Dept of T...|26.0|      45.81|                R|              A|\n",
      "|Hispanic or Latino|  F|Seattle Public Ut...|34.0|      32.48|                R|              A|\n",
      "|Hispanic or Latino|  M|     Fire Department|47.0|      56.28|                R|              A|\n",
      "|Hispanic or Latino|  F|     Municipal Court|null|      31.35|                R|              A|\n",
      "|Hispanic or Latino|  F|Immigrant & Refug...|40.0|     46.408|                R|              A|\n",
      "|Hispanic or Latino|  F|  Parks & Recreation|67.0|      18.56|                T|              A|\n",
      "|Hispanic or Latino|  F|  Parks & Recreation|20.0|      18.56|                T|              A|\n",
      "|Hispanic or Latino|  F|Human Services De...|31.0|      33.78|                T|              A|\n",
      "|Hispanic or Latino|  M|   Police Department|61.0|      59.53|                R|              A|\n",
      "|Hispanic or Latino|  F|Seattle Public Ut...|31.0|      29.03|                R|              A|\n",
      "|Hispanic or Latino|  M|  Parks & Recreation|64.0|      42.92|                R|              A|\n",
      "|Hispanic or Latino|  M|  Seattle City Light|23.0|      19.09|                T|              A|\n",
      "|Hispanic or Latino|  M|  Seattle City Light|51.0|      61.86|                R|              A|\n",
      "|Hispanic or Latino|  F|Seattle Public Ut...|41.0|       53.2|                R|              A|\n",
      "|Hispanic or Latino|  M|Finance & Admin S...|53.0|      29.28|                R|              A|\n",
      "|Hispanic or Latino|  M|  Parks & Recreation|22.0|      18.56|                T|              A|\n",
      "+------------------+---+--------------------+----+-----------+-----------------+---------------+\n",
      "only showing top 20 rows\n",
      "\n"
     ]
    }
   ],
   "source": [
    "sparkDF.show()"
   ]
  },
  {
   "cell_type": "code",
   "execution_count": 13,
   "id": "e3cf9331",
   "metadata": {},
   "outputs": [
    {
     "name": "stdout",
     "output_type": "stream",
     "text": [
      "root\n",
      " |-- Race/Ethnicity: string (nullable = true)\n",
      " |-- Sex: string (nullable = true)\n",
      " |-- Department: string (nullable = true)\n",
      " |-- Age: double (nullable = true)\n",
      " |-- Hourly Rate: double (nullable = true)\n",
      " |-- Regular/Temporary: string (nullable = true)\n",
      " |-- Employee Status: string (nullable = true)\n",
      "\n"
     ]
    }
   ],
   "source": [
    "sparkDF.printSchema()"
   ]
  },
  {
   "cell_type": "code",
   "execution_count": 14,
   "id": "5111ea12",
   "metadata": {},
   "outputs": [],
   "source": [
    "df2 = sparkDF.withColumn(\"Race/Ethnicity\",col(\"Race/Ethnicity\").cast('string')) \\\n",
    "    .withColumn(\"Sex\",col(\"Sex\").cast('string')) \\\n",
    "    .withColumn(\"Department\",col(\"Department\").cast('string')) \\\n",
    "    .withColumn('Age', col('Age').cast('integer')) \\\n",
    "    .withColumn('Hourly Rate', col('Hourly Rate').cast('integer')) \\\n",
    "    .withColumn('Regular/Temporary', col('Regular/Temporary').cast('string')) \\\n",
    "    .withColumn('Employee Status', col('Employee Status').cast('string'))"
   ]
  },
  {
   "cell_type": "code",
   "execution_count": 16,
   "id": "9ea2db3e",
   "metadata": {},
   "outputs": [],
   "source": [
    "mean_age_row = df2.agg({'Age' : 'avg'}).collect()\n",
    "mean_age = mean_age_row[0][0]"
   ]
  },
  {
   "cell_type": "code",
   "execution_count": 44,
   "id": "25af1806",
   "metadata": {},
   "outputs": [
    {
     "name": "stdout",
     "output_type": "stream",
     "text": [
      "+------------------+---+--------------------+---+-----------+-----------------+---------------+\n",
      "|    Race/Ethnicity|Sex|          Department|Age|Hourly Rate|Regular/Temporary|Employee Status|\n",
      "+------------------+---+--------------------+---+-----------+-----------------+---------------+\n",
      "|Hispanic or Latino|  M|  Parks & Recreation| 42|         36|                R|              A|\n",
      "|Hispanic or Latino|  F|     Municipal Court| 37|         30|                R|              A|\n",
      "|Hispanic or Latino|  M|   Police Department| 46|         57|                R|              A|\n",
      "|Hispanic or Latino|  F|Office of Labor S...| 44|         46|                R|              A|\n",
      "|Hispanic or Latino|  M|Seattle Dept of T...| 26|         45|                R|              A|\n",
      "|Hispanic or Latino|  F|Seattle Public Ut...| 34|         32|                R|              A|\n",
      "|Hispanic or Latino|  M|     Fire Department| 47|         56|                R|              A|\n",
      "|Hispanic or Latino|  F|     Municipal Court| 44|         31|                R|              A|\n",
      "|Hispanic or Latino|  F|Immigrant & Refug...| 40|         46|                R|              A|\n",
      "|Hispanic or Latino|  F|  Parks & Recreation| 67|         18|                T|              A|\n",
      "|Hispanic or Latino|  F|  Parks & Recreation| 20|         18|                T|              A|\n",
      "|Hispanic or Latino|  F|Human Services De...| 31|         33|                T|              A|\n",
      "|Hispanic or Latino|  M|   Police Department| 61|         59|                R|              A|\n",
      "|Hispanic or Latino|  F|Seattle Public Ut...| 31|         29|                R|              A|\n",
      "|Hispanic or Latino|  M|  Parks & Recreation| 64|         42|                R|              A|\n",
      "|Hispanic or Latino|  M|  Seattle City Light| 23|         19|                T|              A|\n",
      "|Hispanic or Latino|  M|  Seattle City Light| 51|         61|                R|              A|\n",
      "|Hispanic or Latino|  F|Seattle Public Ut...| 41|         53|                R|              A|\n",
      "|Hispanic or Latino|  M|Finance & Admin S...| 53|         29|                R|              A|\n",
      "|Hispanic or Latino|  M|  Parks & Recreation| 22|         18|                T|              A|\n",
      "+------------------+---+--------------------+---+-----------+-----------------+---------------+\n",
      "only showing top 20 rows\n",
      "\n"
     ]
    }
   ],
   "source": [
    "df2.fillna(value = mean_age, subset = ['Age']).show()"
   ]
  },
  {
   "cell_type": "code",
   "execution_count": null,
   "id": "836afa36",
   "metadata": {},
   "outputs": [],
   "source": []
  }
 ],
 "metadata": {
  "kernelspec": {
   "display_name": "Python 3",
   "language": "python",
   "name": "python3"
  },
  "language_info": {
   "codemirror_mode": {
    "name": "ipython",
    "version": 3
   },
   "file_extension": ".py",
   "mimetype": "text/x-python",
   "name": "python",
   "nbconvert_exporter": "python",
   "pygments_lexer": "ipython3",
   "version": "3.8.8"
  }
 },
 "nbformat": 4,
 "nbformat_minor": 5
}
